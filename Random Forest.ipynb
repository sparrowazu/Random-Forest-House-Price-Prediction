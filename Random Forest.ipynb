{
 "cells": [
  {
   "cell_type": "code",
   "id": "initial_id",
   "metadata": {
    "collapsed": true,
    "ExecuteTime": {
     "end_time": "2024-04-24T20:37:43.296749Z",
     "start_time": "2024-04-24T20:37:40.422099Z"
    }
   },
   "source": [
    "import pandas as pd\n",
    "import matplotlib.pyplot as plt\n",
    "import statsmodels.api as sm\n",
    "import numpy as np"
   ],
   "outputs": [],
   "execution_count": 2
  },
  {
   "metadata": {},
   "cell_type": "markdown",
   "source": "# Introduction",
   "id": "97749cf99c2fa30b"
  },
  {
   "metadata": {},
   "cell_type": "markdown",
   "source": [
    "This project involves developing a random forest model that predicts property prices based on a set \n",
    "of training data. First, we prepare the data by filling NA values by simple imputation \n",
    "methods. Then, we analyze the variables histogram and scatterplot to determine whether \n",
    "they need transformation. Lastly, we build the random forest model using the ranger package. \n",
    " \n",
    "The prediction error will be evaluated using RMLSE (Root Mean Squared Logarithmic Error)"
   ],
   "id": "b2a8be3003841cf"
  },
  {
   "metadata": {},
   "cell_type": "markdown",
   "source": "# Data Pre-processing",
   "id": "c9bd68a7b6287975"
  },
  {
   "metadata": {},
   "cell_type": "markdown",
   "source": [
    "First, checking for outliers, we see that there are properties with zero rooms, \n",
    "bathrooms, or kitchens. This could indicate errors when the data is recorded. Therefore, \n",
    "we will remove these observations."
   ],
   "id": "50b57ace49ba1e32"
  },
  {
   "metadata": {
    "ExecuteTime": {
     "end_time": "2024-04-24T20:39:23.676169Z",
     "start_time": "2024-04-24T20:39:23.630428Z"
    }
   },
   "cell_type": "code",
   "source": [
    "# Loading Data\n",
    "path = r\"C:\\Users\\maian\\OneDrive - University of Waterloo\\Documents\\UW\\Projects\\Data Sets\\Random Forest\\Training Data.csv\"\n",
    "dtrain = pd.read_csv(path)"
   ],
   "id": "dc191af15a78f13d",
   "outputs": [],
   "execution_count": 5
  },
  {
   "metadata": {
    "ExecuteTime": {
     "end_time": "2024-04-24T20:40:38.511750Z",
     "start_time": "2024-04-24T20:40:38.485425Z"
    }
   },
   "cell_type": "code",
   "source": "dtrain.head(5)",
   "id": "b3fef63d85daadf",
   "outputs": [
    {
     "data": {
      "text/plain": [
       "   bathrm  hf_bathrm           heat ac  rooms  bedrm     ayb  yr_rmdl   eyb  \\\n",
       "0       2          0     Forced Air  Y      6      3  1940.0   2011.0  1967   \n",
       "1       3          0  Hot Water Rad  Y      6      4  1933.0   2012.0  1972   \n",
       "2       2          0      Warm Cool  Y      7      2  1956.0   1978.0  1970   \n",
       "3       3          1      Warm Cool  Y      9      4  1977.0   2005.0  1993   \n",
       "4       2          1  Hot Water Rad  N      8      4  1923.0      NaN  1950   \n",
       "\n",
       "   stories  ...          roof   intwall  kitchens fireplaces landarea  \\\n",
       "0     2.00  ...         Slate  Hardwood       1.0          1     5473   \n",
       "1     2.25  ...         Slate  Hardwood       1.0          2     7964   \n",
       "2     1.00  ...  Comp Shingle  Hardwood       1.0          2     6750   \n",
       "3     2.00  ...         Shake  Hardwood       2.0          2     7848   \n",
       "4     2.00  ...         Slate  Hardwood       1.0          1     6250   \n",
       "\n",
       "    latitude  longitude nbhd    ward  quadrant  \n",
       "0  40.748876 -74.124393   D9  Ward 5        NE  \n",
       "1  40.780493 -74.207416   B2  Ward 4        NW  \n",
       "2  40.664722 -74.095686   D2  Ward 7        SE  \n",
       "3  40.756657 -74.195369   C3  Ward 3        NW  \n",
       "4  40.785275 -74.173505   F1  Ward 4        NW  \n",
       "\n",
       "[5 rows x 27 columns]"
      ],
      "text/html": [
       "<div>\n",
       "<style scoped>\n",
       "    .dataframe tbody tr th:only-of-type {\n",
       "        vertical-align: middle;\n",
       "    }\n",
       "\n",
       "    .dataframe tbody tr th {\n",
       "        vertical-align: top;\n",
       "    }\n",
       "\n",
       "    .dataframe thead th {\n",
       "        text-align: right;\n",
       "    }\n",
       "</style>\n",
       "<table border=\"1\" class=\"dataframe\">\n",
       "  <thead>\n",
       "    <tr style=\"text-align: right;\">\n",
       "      <th></th>\n",
       "      <th>bathrm</th>\n",
       "      <th>hf_bathrm</th>\n",
       "      <th>heat</th>\n",
       "      <th>ac</th>\n",
       "      <th>rooms</th>\n",
       "      <th>bedrm</th>\n",
       "      <th>ayb</th>\n",
       "      <th>yr_rmdl</th>\n",
       "      <th>eyb</th>\n",
       "      <th>stories</th>\n",
       "      <th>...</th>\n",
       "      <th>roof</th>\n",
       "      <th>intwall</th>\n",
       "      <th>kitchens</th>\n",
       "      <th>fireplaces</th>\n",
       "      <th>landarea</th>\n",
       "      <th>latitude</th>\n",
       "      <th>longitude</th>\n",
       "      <th>nbhd</th>\n",
       "      <th>ward</th>\n",
       "      <th>quadrant</th>\n",
       "    </tr>\n",
       "  </thead>\n",
       "  <tbody>\n",
       "    <tr>\n",
       "      <th>0</th>\n",
       "      <td>2</td>\n",
       "      <td>0</td>\n",
       "      <td>Forced Air</td>\n",
       "      <td>Y</td>\n",
       "      <td>6</td>\n",
       "      <td>3</td>\n",
       "      <td>1940.0</td>\n",
       "      <td>2011.0</td>\n",
       "      <td>1967</td>\n",
       "      <td>2.00</td>\n",
       "      <td>...</td>\n",
       "      <td>Slate</td>\n",
       "      <td>Hardwood</td>\n",
       "      <td>1.0</td>\n",
       "      <td>1</td>\n",
       "      <td>5473</td>\n",
       "      <td>40.748876</td>\n",
       "      <td>-74.124393</td>\n",
       "      <td>D9</td>\n",
       "      <td>Ward 5</td>\n",
       "      <td>NE</td>\n",
       "    </tr>\n",
       "    <tr>\n",
       "      <th>1</th>\n",
       "      <td>3</td>\n",
       "      <td>0</td>\n",
       "      <td>Hot Water Rad</td>\n",
       "      <td>Y</td>\n",
       "      <td>6</td>\n",
       "      <td>4</td>\n",
       "      <td>1933.0</td>\n",
       "      <td>2012.0</td>\n",
       "      <td>1972</td>\n",
       "      <td>2.25</td>\n",
       "      <td>...</td>\n",
       "      <td>Slate</td>\n",
       "      <td>Hardwood</td>\n",
       "      <td>1.0</td>\n",
       "      <td>2</td>\n",
       "      <td>7964</td>\n",
       "      <td>40.780493</td>\n",
       "      <td>-74.207416</td>\n",
       "      <td>B2</td>\n",
       "      <td>Ward 4</td>\n",
       "      <td>NW</td>\n",
       "    </tr>\n",
       "    <tr>\n",
       "      <th>2</th>\n",
       "      <td>2</td>\n",
       "      <td>0</td>\n",
       "      <td>Warm Cool</td>\n",
       "      <td>Y</td>\n",
       "      <td>7</td>\n",
       "      <td>2</td>\n",
       "      <td>1956.0</td>\n",
       "      <td>1978.0</td>\n",
       "      <td>1970</td>\n",
       "      <td>1.00</td>\n",
       "      <td>...</td>\n",
       "      <td>Comp Shingle</td>\n",
       "      <td>Hardwood</td>\n",
       "      <td>1.0</td>\n",
       "      <td>2</td>\n",
       "      <td>6750</td>\n",
       "      <td>40.664722</td>\n",
       "      <td>-74.095686</td>\n",
       "      <td>D2</td>\n",
       "      <td>Ward 7</td>\n",
       "      <td>SE</td>\n",
       "    </tr>\n",
       "    <tr>\n",
       "      <th>3</th>\n",
       "      <td>3</td>\n",
       "      <td>1</td>\n",
       "      <td>Warm Cool</td>\n",
       "      <td>Y</td>\n",
       "      <td>9</td>\n",
       "      <td>4</td>\n",
       "      <td>1977.0</td>\n",
       "      <td>2005.0</td>\n",
       "      <td>1993</td>\n",
       "      <td>2.00</td>\n",
       "      <td>...</td>\n",
       "      <td>Shake</td>\n",
       "      <td>Hardwood</td>\n",
       "      <td>2.0</td>\n",
       "      <td>2</td>\n",
       "      <td>7848</td>\n",
       "      <td>40.756657</td>\n",
       "      <td>-74.195369</td>\n",
       "      <td>C3</td>\n",
       "      <td>Ward 3</td>\n",
       "      <td>NW</td>\n",
       "    </tr>\n",
       "    <tr>\n",
       "      <th>4</th>\n",
       "      <td>2</td>\n",
       "      <td>1</td>\n",
       "      <td>Hot Water Rad</td>\n",
       "      <td>N</td>\n",
       "      <td>8</td>\n",
       "      <td>4</td>\n",
       "      <td>1923.0</td>\n",
       "      <td>NaN</td>\n",
       "      <td>1950</td>\n",
       "      <td>2.00</td>\n",
       "      <td>...</td>\n",
       "      <td>Slate</td>\n",
       "      <td>Hardwood</td>\n",
       "      <td>1.0</td>\n",
       "      <td>1</td>\n",
       "      <td>6250</td>\n",
       "      <td>40.785275</td>\n",
       "      <td>-74.173505</td>\n",
       "      <td>F1</td>\n",
       "      <td>Ward 4</td>\n",
       "      <td>NW</td>\n",
       "    </tr>\n",
       "  </tbody>\n",
       "</table>\n",
       "<p>5 rows × 27 columns</p>\n",
       "</div>"
      ]
     },
     "execution_count": 7,
     "metadata": {},
     "output_type": "execute_result"
    }
   ],
   "execution_count": 7
  },
  {
   "metadata": {
    "ExecuteTime": {
     "end_time": "2024-04-25T01:42:29.387490Z",
     "start_time": "2024-04-25T01:42:29.380286Z"
    }
   },
   "cell_type": "code",
   "source": [
    "dtrain = dtrain[(dtrain['rooms'] != 0) & (dtrain['bathrm'] != 0) & (dtrain['bedrm'] != 0) & (dtrain['kitchens'].isna() == False)]\n",
    "print(len(dtrain)) #seems like we removed 3 observations with no rooms"
   ],
   "id": "d268002ee3f4986",
   "outputs": [
    {
     "name": "stdout",
     "output_type": "stream",
     "text": [
      "5994\n"
     ]
    }
   ],
   "execution_count": 33
  },
  {
   "metadata": {},
   "cell_type": "markdown",
   "source": "How about NA values?",
   "id": "ff3a42dc9c49c456"
  },
  {
   "metadata": {
    "ExecuteTime": {
     "end_time": "2024-04-24T20:49:41.908368Z",
     "start_time": "2024-04-24T20:49:41.884556Z"
    }
   },
   "cell_type": "code",
   "source": "print(dtrain.isna().sum())",
   "id": "85b7db02046fceeb",
   "outputs": [
    {
     "name": "stdout",
     "output_type": "stream",
     "text": [
      "bathrm           0\n",
      "hf_bathrm        0\n",
      "heat             0\n",
      "ac               0\n",
      "rooms            0\n",
      "bedrm            0\n",
      "ayb             17\n",
      "yr_rmdl       2407\n",
      "eyb              0\n",
      "stories          4\n",
      "saledate         0\n",
      "price            0\n",
      "gba              0\n",
      "style            0\n",
      "grade            0\n",
      "cndtn            0\n",
      "extwall          0\n",
      "roof             0\n",
      "intwall          0\n",
      "kitchens         1\n",
      "fireplaces       0\n",
      "landarea         0\n",
      "latitude         0\n",
      "longitude        0\n",
      "nbhd             0\n",
      "ward             0\n",
      "quadrant        32\n",
      "dtype: int64\n"
     ]
    }
   ],
   "execution_count": 13
  },
  {
   "metadata": {},
   "cell_type": "markdown",
   "source": "It seems that we have quite a lot of NA values, we will consider one variable at a time. But first, do we really need the exact date of sales for each property? I will only keep the year and remove the dates. This way, we can treat this value as numerical",
   "id": "9e62e7dea8edeb79"
  },
  {
   "metadata": {
    "ExecuteTime": {
     "end_time": "2024-04-24T20:53:15.339735Z",
     "start_time": "2024-04-24T20:53:15.312353Z"
    }
   },
   "cell_type": "code",
   "source": [
    "dtrain['saledate'] = pd.to_datetime(dtrain['saledate'])\n",
    "dtrain['saledate'] = dtrain['saledate'].dt.year\n",
    "dtrain['saledate'].head(5)"
   ],
   "id": "430d5ca68efd2bdb",
   "outputs": [
    {
     "data": {
      "text/plain": [
       "0    2013\n",
       "1    2017\n",
       "2    2015\n",
       "3    2015\n",
       "4    1993\n",
       "Name: saledate, dtype: int32"
      ]
     },
     "execution_count": 14,
     "metadata": {},
     "output_type": "execute_result"
    }
   ],
   "execution_count": 14
  },
  {
   "metadata": {},
   "cell_type": "markdown",
   "source": "That looks much better. Now, ayb is the year that the property was first built. To fill this value, we will use the average age of the other properties, then deduct the age from saledate.",
   "id": "3d58c7b3c8bf0224"
  },
  {
   "metadata": {
    "ExecuteTime": {
     "end_time": "2024-04-24T21:07:37.708618Z",
     "start_time": "2024-04-24T21:07:37.692103Z"
    }
   },
   "cell_type": "code",
   "source": [
    "avgAge = (dtrain['saledate'] - dtrain['ayb']).mean(skipna=True)\n",
    "dtrain['ayb'].fillna(avgAge, inplace=True)\n",
    "dtrain['ayb'].isna().sum() #Look at that! We have no missing value!"
   ],
   "id": "bf90ddbdf0c2d078",
   "outputs": [
    {
     "data": {
      "text/plain": [
       "0"
      ]
     },
     "execution_count": 17,
     "metadata": {},
     "output_type": "execute_result"
    }
   ],
   "execution_count": 17
  },
  {
   "metadata": {},
   "cell_type": "markdown",
   "source": "",
   "id": "8e55eff1fd2ff518"
  },
  {
   "metadata": {},
   "cell_type": "markdown",
   "source": "yr_rmdl is the year that the propety was remodelled. If the value is NA, then we can assume that the property has never been remodelled, and we can use ayb value instead.",
   "id": "7c90dc47592436ff"
  },
  {
   "metadata": {
    "ExecuteTime": {
     "end_time": "2024-04-25T01:15:38.206768Z",
     "start_time": "2024-04-25T01:15:38.200504Z"
    }
   },
   "cell_type": "code",
   "source": [
    "dtrain['yr_rmdl'].fillna(dtrain['ayb'],inplace=True)\n",
    "dtrain['yr_rmdl'].isna().sum()"
   ],
   "id": "581d2b0b45f77034",
   "outputs": [
    {
     "data": {
      "text/plain": [
       "0"
      ]
     },
     "execution_count": 19,
     "metadata": {},
     "output_type": "execute_result"
    }
   ],
   "execution_count": 19
  },
  {
   "metadata": {},
   "cell_type": "markdown",
   "source": "The number of stories that were missing can potentially be extracted from style. Let's create a function for that",
   "id": "4dc0269ae1df88e1"
  },
  {
   "metadata": {
    "ExecuteTime": {
     "end_time": "2024-04-25T01:30:14.032219Z",
     "start_time": "2024-04-25T01:30:14.024740Z"
    }
   },
   "cell_type": "code",
   "source": [
    "def extract_stories(style):\n",
    "    style = style.lower()\n",
    "    if \"story\" in style:\n",
    "        word = style.split()\n",
    "        return float(word[0])\n",
    "    elif \"bi\" in style:\n",
    "        return 2\n",
    "    elif \"split\" in style:\n",
    "        return 1.5\n",
    "    else: \n",
    "        return 1"
   ],
   "id": "fef763a21cbf3d92",
   "outputs": [],
   "execution_count": 20
  },
  {
   "metadata": {
    "ExecuteTime": {
     "end_time": "2024-04-25T01:32:20.015925Z",
     "start_time": "2024-04-25T01:32:20.004646Z"
    }
   },
   "cell_type": "code",
   "source": [
    "dtrain['stories'].fillna(dtrain['style'].apply(extract_stories), inplace = True)\n",
    "dtrain['stories'].isna().sum()"
   ],
   "id": "956785432d93a3d7",
   "outputs": [
    {
     "data": {
      "text/plain": [
       "0"
      ]
     },
     "execution_count": 22,
     "metadata": {},
     "output_type": "execute_result"
    }
   ],
   "execution_count": 22
  },
  {
   "metadata": {},
   "cell_type": "markdown",
   "source": "Next, let's look at the coordinates of these properties to see how they are classified into quadrants. The black points are missing values",
   "id": "fb9f0ce7a9d8ba4a"
  },
  {
   "metadata": {
    "ExecuteTime": {
     "end_time": "2024-04-25T01:33:46.421317Z",
     "start_time": "2024-04-25T01:33:45.962281Z"
    }
   },
   "cell_type": "code",
   "source": [
    "color_dict = {'NE': 'blue', 'NW': 'green', 'SE': 'red', 'SW': 'orange', 'Na': 'black'}\n",
    "\n",
    "# Plotting\n",
    "fig, ax = plt.subplots()\n",
    "for quad, color in color_dict.items():\n",
    "    if quad == 'Na':\n",
    "        subset_data = dtrain[dtrain['quadrant'].isna()]\n",
    "    else:\n",
    "        subset_data = dtrain[dtrain['quadrant'] == quad]\n",
    "    ax.scatter(subset_data['longitude'], subset_data['latitude'], label=quad, color=color, s=40)\n",
    "\n",
    "# Set labels and title\n",
    "ax.set_xlabel('Longitude')\n",
    "ax.set_ylabel('Latitude')\n",
    "ax.set_title('Properties Segmented by Quadrant')\n",
    "\n",
    "# Create a legend\n",
    "handles = [plt.Line2D([0], [0], marker='o', color='w', markersize=10, markerfacecolor=color_dict[quad]) for quad in color_dict]\n",
    "labels = color_dict.keys()\n",
    "plt.legend(handles, labels, title='Quadrant')\n",
    "\n",
    "plt.show()"
   ],
   "id": "7adf5d2f0967dd21",
   "outputs": [
    {
     "data": {
      "text/plain": [
       "<Figure size 640x480 with 1 Axes>"
      ],
      "image/png": "[encoded data removed]"
     },
     "metadata": {},
     "output_type": "display_data"
    }
   ],
   "execution_count": 23
  },
  {
   "metadata": {},
   "cell_type": "markdown",
   "source": "This seems like a perfect opportunity to apply k-nearest neighbor to fill these missing values, since we already have their coordinates.",
   "id": "d8777ee3fb8a5cc5"
  },
  {
   "metadata": {
    "ExecuteTime": {
     "end_time": "2024-04-25T01:37:08.124952Z",
     "start_time": "2024-04-25T01:37:07.858619Z"
    }
   },
   "cell_type": "code",
   "source": [
    "from sklearn.neighbors import KNeighborsClassifier\n",
    "\n",
    "def fill_quadrant_knn(data, k):\n",
    "    complete_data = data[~data['quadrant'].isna()][[\"latitude\", \"longitude\"]]\n",
    "    complete_labels = data.loc[~data['quadrant'].isna(), 'quadrant']\n",
    "    missing_data = data[data['quadrant'].isna()][[\"latitude\", \"longitude\"]]\n",
    "\n",
    "    knn = KNeighborsClassifier(n_neighbors=k)\n",
    "    knn.fit(complete_data, complete_labels)\n",
    "    knn_result = knn.predict(missing_data)\n",
    "\n",
    "    data.loc[data['quadrant'].isna(), 'quadrant'] = knn_result\n",
    "    return data\n",
    "\n",
    "# Assuming 'dtrain' is your DataFrame and 'labels' is a list of quadrant labels\n",
    "dtrain = fill_quadrant_knn(dtrain, 5)\n",
    "\n",
    "labels = [\"NE\", \"NW\", \"SE\"]\n",
    "for i, label in enumerate(labels, start=1):\n",
    "    dtrain['quadrant'] = np.where(dtrain['quadrant'] == i, label, dtrain['quadrant'])\n",
    "    \n",
    "dtrain['quadrant'].isna().sum() #look at that! we just did a textbook case of KNN!"
   ],
   "id": "18497fd81a0041da",
   "outputs": [
    {
     "data": {
      "text/plain": [
       "0"
      ]
     },
     "execution_count": 25,
     "metadata": {},
     "output_type": "execute_result"
    }
   ],
   "execution_count": 25
  },
  {
   "metadata": {},
   "cell_type": "markdown",
   "source": "It seems that we finally finished data pre-processing! At last, let's double check and move onto building our model",
   "id": "8644760dae73d5fc"
  },
  {
   "metadata": {
    "ExecuteTime": {
     "end_time": "2024-04-25T01:42:37.084343Z",
     "start_time": "2024-04-25T01:42:37.077706Z"
    }
   },
   "cell_type": "code",
   "source": "print(dtrain.isna().sum().sum())",
   "id": "a7809d966e8adadf",
   "outputs": [
    {
     "name": "stdout",
     "output_type": "stream",
     "text": [
      "0\n"
     ]
    }
   ],
   "execution_count": 34
  }
 ],
 "metadata": {
  "kernelspec": {
   "display_name": "Python 3",
   "language": "python",
   "name": "python3"
  },
  "language_info": {
   "codemirror_mode": {
    "name": "ipython",
    "version": 2
   },
   "file_extension": ".py",
   "mimetype": "text/x-python",
   "name": "python",
   "nbconvert_exporter": "python",
   "pygments_lexer": "ipython2",
   "version": "2.7.6"
  }
 },
 "nbformat": 4,
 "nbformat_minor": 5
}
